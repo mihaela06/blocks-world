{
  "cells": [
    {
      "cell_type": "markdown",
      "metadata": {
        "colab_type": "text",
        "id": "view-in-github"
      },
      "source": [
        "<a href=\"https://colab.research.google.com/github/mihaela06/blocks-world/blob/main/BlocksWorldBenchmark.ipynb\" target=\"_parent\"><img src=\"https://colab.research.google.com/assets/colab-badge.svg\" alt=\"Open In Colab\"/></a>"
      ]
    },
    {
      "cell_type": "code",
      "execution_count": 2,
      "metadata": {
        "id": "lMsbNh5wS3tu"
      },
      "outputs": [
        {
          "ename": "ModuleNotFoundError",
          "evalue": "No module named 'matplotlib'",
          "output_type": "error",
          "traceback": [
            "\u001b[1;31m---------------------------------------------------------------------------\u001b[0m",
            "\u001b[1;31mModuleNotFoundError\u001b[0m                       Traceback (most recent call last)",
            "\u001b[1;32m~\\AppData\\Local\\Temp/ipykernel_5520/629646153.py\u001b[0m in \u001b[0;36m<module>\u001b[1;34m\u001b[0m\n\u001b[0;32m      1\u001b[0m \u001b[1;32mimport\u001b[0m \u001b[0mos\u001b[0m\u001b[1;33m\u001b[0m\u001b[1;33m\u001b[0m\u001b[0m\n\u001b[1;32m----> 2\u001b[1;33m \u001b[1;32mimport\u001b[0m \u001b[0mmatplotlib\u001b[0m\u001b[1;33m.\u001b[0m\u001b[0mpyplot\u001b[0m \u001b[1;32mas\u001b[0m \u001b[0mplt\u001b[0m\u001b[1;33m\u001b[0m\u001b[1;33m\u001b[0m\u001b[0m\n\u001b[0m\u001b[0;32m      3\u001b[0m \u001b[1;32mimport\u001b[0m \u001b[0mpandas\u001b[0m \u001b[1;32mas\u001b[0m \u001b[0mpd\u001b[0m\u001b[1;33m\u001b[0m\u001b[1;33m\u001b[0m\u001b[0m\n\u001b[0;32m      4\u001b[0m \u001b[1;33m\u001b[0m\u001b[0m\n\u001b[0;32m      5\u001b[0m \u001b[1;32mdef\u001b[0m \u001b[0mgetFiles\u001b[0m\u001b[1;33m(\u001b[0m\u001b[1;33m)\u001b[0m\u001b[1;33m:\u001b[0m\u001b[1;33m\u001b[0m\u001b[1;33m\u001b[0m\u001b[0m\n",
            "\u001b[1;31mModuleNotFoundError\u001b[0m: No module named 'matplotlib'"
          ]
        }
      ],
      "source": [
        "import os\n",
        "import matplotlib.pyplot as plt\n",
        "import pandas as pd\n",
        "\n",
        "def getFiles():\n",
        "    files = os.listdir('.\\\\States')\n",
        "    return files\n",
        "\n",
        "def getNumberBlocks(files):\n",
        "    nblocks = []\n",
        "    for file in files:\n",
        "        nblocks.append(int(file.replace('.txt', ''), 10))\n",
        "    return nblocks\n",
        "\n",
        "def getAverage(alg, nblocks, dataframe, column):\n",
        "    list = []\n",
        "    for blocks in nblocks:\n",
        "        if alg == \"BFS\" and blocks < 8:\n",
        "            list.append(dataframe.loc[dataframe[column] == blocks].mean())\n",
        "        if alg == \"DFS\" and blocks < 8:\n",
        "            list.append(dataframe.loc[dataframe[column] == blocks].mean())\n",
        "        elif alg != 'BFS' and alg != 'DFS':\n",
        "            list.append(dataframe.loc[dataframe[column] == blocks].mean())\n",
        "    return list\n",
        "\n",
        "def createUSTimegraph(filename, nblocks):\n",
        "    data = pd.read_csv(filename)\n",
        "    avg = getAverage('US', nblocks, data, 'Number of blocks')\n",
        "    averaged = pd.DataFrame(avg)\n",
        "    sorted = averaged.sort_values(by='Number of blocks', ascending=True)\n",
        "    x = sorted['Number of blocks']\n",
        "    y = sorted['Time']\n",
        "    print(sorted)\n",
        "    plt.plot(x, y, 'r', label=\"US\")\n",
        "    plt.legend()\n",
        "\n",
        "def createGN1Timegraph(filename, nblocks):\n",
        "    data = pd.read_csv(filename)\n",
        "    avg = getAverage('GN1', nblocks, data, 'Number of blocks')\n",
        "    averaged = pd.DataFrame(avg)\n",
        "    sorted = averaged.sort_values(by='Number of blocks', ascending=True)\n",
        "    x = sorted['Number of blocks']\n",
        "    y = sorted['Time']\n",
        "    plt.plot(x, y, 'g', label=\"GN1\")\n",
        "    plt.legend()\n",
        "\n",
        "def createGN2Timegraph(filename, nblocks):\n",
        "    data = pd.read_csv(filename)\n",
        "    avg = getAverage('GN2', nblocks, data, 'Number of blocks')\n",
        "    averaged = pd.DataFrame(avg)\n",
        "    sorted = averaged.sort_values(by='Number of blocks', ascending=True)\n",
        "    x = sorted['Number of blocks']\n",
        "    y = sorted['Time']\n",
        "    plt.plot(x, y, 'y', label=\"GN2\")\n",
        "    plt.legend()\n",
        "\n",
        "def createBFSTimegraph(filename, nblocks):\n",
        "    data = pd.read_csv(filename)\n",
        "    avg = getAverage('BFS', nblocks, data, 'Number of blocks')\n",
        "    averaged = pd.DataFrame(avg)\n",
        "    sorted = averaged.sort_values(by='Number of blocks', ascending=True)\n",
        "    x = sorted['Number of blocks']\n",
        "    y = sorted['Time']\n",
        "    plt.plot(x, y, 'b', label=\"BFS\")\n",
        "    plt.legend()\n",
        "\n",
        "def createDFSTimegraph(filename, nblocks):\n",
        "    data = pd.read_csv(filename)\n",
        "    avg = getAverage('DFS', nblocks, data, 'Number of blocks')\n",
        "    averaged = pd.DataFrame(avg)\n",
        "    sorted = averaged.sort_values(by='Number of blocks', ascending=True)\n",
        "    x = sorted['Number of blocks']\n",
        "    y = sorted['Time']\n",
        "    plt.plot(x, y, 'c', label=\"DFS\")\n",
        "    plt.legend()\n",
        "\n",
        "def createBESTTimegraph(filename, nblocks):\n",
        "    data = pd.read_csv(filename)\n",
        "    avg = getAverage('BEST', nblocks, data, 'Number of blocks')\n",
        "    averaged = pd.DataFrame(avg)\n",
        "    sorted = averaged.sort_values(by='Number of blocks', ascending=True)\n",
        "    x = sorted['Number of blocks']\n",
        "    y = sorted['Time']\n",
        "    plt.plot(x, y, 'c', label=\"BEST\")\n",
        "    plt.legend()\n",
        "\n",
        "def createASTARTimegraph(filename, nblocks):\n",
        "    data = pd.read_csv(filename)\n",
        "    avg = getAverage('ASTAR', nblocks, data, 'Number of blocks')\n",
        "    averaged = pd.DataFrame(avg)\n",
        "    sorted = averaged.sort_values(by='Number of blocks', ascending=True)\n",
        "    x = sorted['Number of blocks']\n",
        "    y = sorted['Time']\n",
        "    plt.plot(x, y, 'c', label=\"ASTAR\")\n",
        "    plt.legend()\n",
        "\n",
        "def createTimeGraphs():\n",
        "    createUSTimegraph('us.csv', getNumberBlocks(getFiles()))\n",
        "    createGN1Timegraph('gn1.csv', getNumberBlocks(getFiles()))\n",
        "    createGN2Timegraph('gn2.csv', getNumberBlocks(getFiles()))\n",
        "    createBFSTimegraph('bfs.csv', getNumberBlocks(getFiles()))\n",
        "    createDFSTimegraph('dfs.csv', getNumberBlocks(getFiles()))\n",
        "    plt.show()\n"
      ]
    }
  ],
  "metadata": {
    "colab": {
      "collapsed_sections": [],
      "include_colab_link": true,
      "name": "BlocksWorldBenchmark",
      "provenance": []
    },
    "kernelspec": {
      "display_name": "Python 3",
      "name": "python3"
    },
    "language_info": {
      "codemirror_mode": {
        "name": "ipython",
        "version": 3
      },
      "file_extension": ".py",
      "mimetype": "text/x-python",
      "name": "python",
      "nbconvert_exporter": "python",
      "pygments_lexer": "ipython3",
      "version": "3.10.0"
    }
  },
  "nbformat": 4,
  "nbformat_minor": 0
}
